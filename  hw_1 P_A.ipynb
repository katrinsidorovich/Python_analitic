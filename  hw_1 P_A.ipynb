{
 "cells": [
  {
   "cell_type": "markdown",
   "id": "01e5a631",
   "metadata": {},
   "source": [
    "# Python_analitic"
   ]
  },
  {
   "cell_type": "markdown",
   "id": "647249c3",
   "metadata": {},
   "source": [
    "# Урок 1. Оформление ноутбука и закрепление функций и генераторов"
   ]
  },
  {
   "cell_type": "markdown",
   "id": "428bd5f5",
   "metadata": {},
   "source": [
    "Сдавать ссылкой на github"
   ]
  },
  {
   "cell_type": "markdown",
   "id": "a070d818",
   "metadata": {},
   "source": [
    "## Условие 1:"
   ]
  },
  {
   "cell_type": "markdown",
   "id": "dea8057f",
   "metadata": {},
   "source": [
    "Оформляйте ноутбук, используя эти советы: \n",
    "Номер задачи - заголовок 2 \n",
    "Номер подзадачи - заголовок 3 \n",
    "Предоставленные наборы данных оформляйте, как код \n",
    "Рекомендации для преподавателей по оценке задания: \n",
    "Смотреть, чтобы студент красиво оформлял ноутбук, использовал ячейки с текстом, указывал номера заданий"
   ]
  },
  {
   "cell_type": "markdown",
   "id": "74f6c6b0",
   "metadata": {},
   "source": [
    "## Задача 2:"
   ]
  },
  {
   "cell_type": "markdown",
   "id": "e440ea12",
   "metadata": {},
   "source": [
    "На складе лежат разные фрукты в разном количестве. \n",
    "Нужно написать функцию, которая на вход принимает любое количество названий фруктов и их количество,\n",
    "а возвращает общее количество фруктов на складе"
   ]
  },
  {
   "cell_type": "code",
   "execution_count": 1,
   "id": "dfd34c7b",
   "metadata": {},
   "outputs": [
    {
     "name": "stdout",
     "output_type": "stream",
     "text": [
      "Продукт Груши добавлен(ы) в количестве 200 грамм\n",
      "Продукт Яблоки добавлен(ы) в количестве 400 грамм\n",
      "Продукт Манго добавлен(ы) в количестве 400 грамм\n",
      "Продукт Бананы добавлен(ы) в количестве 500 грамм\n"
     ]
    },
    {
     "data": {
      "text/html": [
       "<div>\n",
       "<style scoped>\n",
       "    .dataframe tbody tr th:only-of-type {\n",
       "        vertical-align: middle;\n",
       "    }\n",
       "\n",
       "    .dataframe tbody tr th {\n",
       "        vertical-align: top;\n",
       "    }\n",
       "\n",
       "    .dataframe thead th {\n",
       "        text-align: right;\n",
       "    }\n",
       "</style>\n",
       "<table border=\"1\" class=\"dataframe\">\n",
       "  <thead>\n",
       "    <tr style=\"text-align: right;\">\n",
       "      <th></th>\n",
       "      <th>Количество (г)</th>\n",
       "    </tr>\n",
       "  </thead>\n",
       "  <tbody>\n",
       "    <tr>\n",
       "      <th>Груши</th>\n",
       "      <td>200</td>\n",
       "    </tr>\n",
       "    <tr>\n",
       "      <th>Яблоки</th>\n",
       "      <td>400</td>\n",
       "    </tr>\n",
       "    <tr>\n",
       "      <th>Манго</th>\n",
       "      <td>400</td>\n",
       "    </tr>\n",
       "    <tr>\n",
       "      <th>Бананы</th>\n",
       "      <td>500</td>\n",
       "    </tr>\n",
       "    <tr>\n",
       "      <th>Общий вес:</th>\n",
       "      <td>1500</td>\n",
       "    </tr>\n",
       "  </tbody>\n",
       "</table>\n",
       "</div>"
      ],
      "text/plain": [
       "             Количество (г)\n",
       "Груши                   200\n",
       "Яблоки                  400\n",
       "Манго                   400\n",
       "Бананы                  500\n",
       "Общий вес:             1500"
      ]
     },
     "execution_count": 1,
     "metadata": {},
     "output_type": "execute_result"
    }
   ],
   "source": [
    "import json\n",
    "import os\n",
    "import re\n",
    "import pandas as pd \n",
    "\n",
    "\n",
    "def load_data(file_name='fruits.json'):\n",
    "    \"\"\"Функция выгрузки информации о фруктах и их количестве в граммах\n",
    "    Возвращает:\n",
    "    - Список наименований фруктов и их количества на складе\n",
    "    - В случае пустых данных - возвращается пустой словарь\"\"\"\n",
    "\n",
    "    if os.path.exists(file_name):\n",
    "            with open(file_name, \"r\", encoding=\"utf-8\") as r:\n",
    "                data = json.load(r)\n",
    "                return data\n",
    "    else:\n",
    "        return {}\n",
    "\n",
    "\n",
    "def save_data(data: dict, file_name='fruits.json'):\n",
    "    \"\"\"Функция сохраняет наименования фруктов и их количества на складе\n",
    "\n",
    "    - Принимает данные добавленных фруктов и количеста, и сохраняет их в json файл\"\"\"\n",
    "    \n",
    "    with open(file_name, \"w\", encoding=\"utf-8\") as s:\n",
    "        json.dump(data, s, ensure_ascii=False, indent=4)\n",
    "\n",
    "\n",
    "class EmptyFruits(Exception):\n",
    "    pass\n",
    "\n",
    "\n",
    "def add_fruits(*args, **kwargs):\n",
    "    \"\"\"Добавить новый фрукт на складе\n",
    "\n",
    "    - принимает наименование фрукта и его количество, разделение проиходит через \": \"\n",
    "    - - 1. В случае если фрукт уже находится в базе данных, изменяется только его количество, если оно не совпадает\n",
    "    с текущим количеством, иначе изменение не произойдет для тех фруктов, где совпадает.\n",
    "    - - 1.1. Программа не добавляет уже существующие фрукты, а только новые и приводит все к правильному виду. \n",
    "    Так же игнорирует неверное введение количества, фильтруя только числовые значения. \n",
    "    - - 2. В случае, если запись новая - она добавляется полностью.\"\"\"\n",
    "    \n",
    "    try:\n",
    "        if not args and not kwargs:\n",
    "            raise EmptyFruits\n",
    "        data = load_data()\n",
    "        for arg in args:\n",
    "            name, count = arg.split(\": \")\n",
    "            name = name.title()\n",
    "            count = int(\"\".join(re.findall(r\"\\d+\", count)))\n",
    "            if name in data.keys():\n",
    "                if count == data[name]:\n",
    "                    print(f\"Сейчас {name} на складе {count} грамм. Изменения не требуются\")\n",
    "                else:\n",
    "                    data[name] = count\n",
    "                    print(f\"Количество {name} изменено на {count} грамм\")\n",
    "            else:\n",
    "                data[name] = count                      \n",
    "                print(f\"Продукт {name} добавлен(ы) в количестве {count} грамм\")\n",
    "        for key, value in kwargs.items():\n",
    "            name = key.title()\n",
    "            count = int(value)\n",
    "            if name in data.keys():\n",
    "                if count == data[name]:\n",
    "                    print(f\"Сейчас {name} на складе {count} грамм. Изменения не требуются\")\n",
    "                else:\n",
    "                    data[name] = count\n",
    "                    print(f\"Количество {name} изменено на {count} грамм\")\n",
    "            else:\n",
    "                data[name] = count\n",
    "                print(f\"Продукт {name} добавлен(ы) в количестве {count} грамм\")\n",
    "        save_data(data)\n",
    "        if data:\n",
    "            df = pd.DataFrame.from_dict(data, orient='index', columns=['Количество (г)'])\n",
    "            df.loc[\"Общий вес: \"] = [df[\"Количество (г)\"].sum()]\n",
    "            return df\n",
    "        else:\n",
    "            print(\"Нет данных для создания DataFrame\")\n",
    "            return None\n",
    "    except EmptyFruits:\n",
    "        return \"Вы не ввели ни одного продукта\"\n",
    "\n",
    "\n",
    "# Первое внесение продуктов в базу данных, правильное внесение. \n",
    "add_fruits(\"Груши: 200\", \"Яблоки: 400\", \"Манго: 400\", \"Бананы: 500\")"
   ]
  },
  {
   "cell_type": "code",
   "execution_count": 2,
   "id": "60adaa22",
   "metadata": {
    "scrolled": true
   },
   "outputs": [
    {
     "name": "stdout",
     "output_type": "stream",
     "text": [
      "Продукт Ананас добавлен(ы) в количестве 125 грамм\n"
     ]
    },
    {
     "data": {
      "text/html": [
       "<div>\n",
       "<style scoped>\n",
       "    .dataframe tbody tr th:only-of-type {\n",
       "        vertical-align: middle;\n",
       "    }\n",
       "\n",
       "    .dataframe tbody tr th {\n",
       "        vertical-align: top;\n",
       "    }\n",
       "\n",
       "    .dataframe thead th {\n",
       "        text-align: right;\n",
       "    }\n",
       "</style>\n",
       "<table border=\"1\" class=\"dataframe\">\n",
       "  <thead>\n",
       "    <tr style=\"text-align: right;\">\n",
       "      <th></th>\n",
       "      <th>Количество (г)</th>\n",
       "    </tr>\n",
       "  </thead>\n",
       "  <tbody>\n",
       "    <tr>\n",
       "      <th>Груши</th>\n",
       "      <td>200</td>\n",
       "    </tr>\n",
       "    <tr>\n",
       "      <th>Яблоки</th>\n",
       "      <td>400</td>\n",
       "    </tr>\n",
       "    <tr>\n",
       "      <th>Манго</th>\n",
       "      <td>400</td>\n",
       "    </tr>\n",
       "    <tr>\n",
       "      <th>Бананы</th>\n",
       "      <td>500</td>\n",
       "    </tr>\n",
       "    <tr>\n",
       "      <th>Ананас</th>\n",
       "      <td>125</td>\n",
       "    </tr>\n",
       "    <tr>\n",
       "      <th>Общий вес:</th>\n",
       "      <td>1625</td>\n",
       "    </tr>\n",
       "  </tbody>\n",
       "</table>\n",
       "</div>"
      ],
      "text/plain": [
       "             Количество (г)\n",
       "Груши                   200\n",
       "Яблоки                  400\n",
       "Манго                   400\n",
       "Бананы                  500\n",
       "Ананас                  125\n",
       "Общий вес:             1625"
      ]
     },
     "execution_count": 2,
     "metadata": {},
     "output_type": "execute_result"
    }
   ],
   "source": [
    "# Неверное внесение количества\n",
    "add_fruits(\"Ананас: янеправильноввожу125грамм\")"
   ]
  },
  {
   "cell_type": "code",
   "execution_count": 3,
   "id": "7445d672",
   "metadata": {},
   "outputs": [
    {
     "name": "stdout",
     "output_type": "stream",
     "text": [
      "Количество Яблоки изменено на 500 грамм\n"
     ]
    },
    {
     "data": {
      "text/html": [
       "<div>\n",
       "<style scoped>\n",
       "    .dataframe tbody tr th:only-of-type {\n",
       "        vertical-align: middle;\n",
       "    }\n",
       "\n",
       "    .dataframe tbody tr th {\n",
       "        vertical-align: top;\n",
       "    }\n",
       "\n",
       "    .dataframe thead th {\n",
       "        text-align: right;\n",
       "    }\n",
       "</style>\n",
       "<table border=\"1\" class=\"dataframe\">\n",
       "  <thead>\n",
       "    <tr style=\"text-align: right;\">\n",
       "      <th></th>\n",
       "      <th>Количество (г)</th>\n",
       "    </tr>\n",
       "  </thead>\n",
       "  <tbody>\n",
       "    <tr>\n",
       "      <th>Груши</th>\n",
       "      <td>200</td>\n",
       "    </tr>\n",
       "    <tr>\n",
       "      <th>Яблоки</th>\n",
       "      <td>500</td>\n",
       "    </tr>\n",
       "    <tr>\n",
       "      <th>Манго</th>\n",
       "      <td>400</td>\n",
       "    </tr>\n",
       "    <tr>\n",
       "      <th>Бананы</th>\n",
       "      <td>500</td>\n",
       "    </tr>\n",
       "    <tr>\n",
       "      <th>Ананас</th>\n",
       "      <td>125</td>\n",
       "    </tr>\n",
       "    <tr>\n",
       "      <th>Общий вес:</th>\n",
       "      <td>1725</td>\n",
       "    </tr>\n",
       "  </tbody>\n",
       "</table>\n",
       "</div>"
      ],
      "text/plain": [
       "             Количество (г)\n",
       "Груши                   200\n",
       "Яблоки                  500\n",
       "Манго                   400\n",
       "Бананы                  500\n",
       "Ананас                  125\n",
       "Общий вес:             1725"
      ]
     },
     "execution_count": 3,
     "metadata": {},
     "output_type": "execute_result"
    }
   ],
   "source": [
    "# Внесение уже существующего фрукта с изменением\n",
    "add_fruits(\"Яблоки: 500\")"
   ]
  },
  {
   "cell_type": "code",
   "execution_count": 4,
   "id": "604d2c02",
   "metadata": {},
   "outputs": [
    {
     "name": "stdout",
     "output_type": "stream",
     "text": [
      "Сейчас Яблоки на складе 500 грамм. Изменения не требуются\n"
     ]
    },
    {
     "data": {
      "text/html": [
       "<div>\n",
       "<style scoped>\n",
       "    .dataframe tbody tr th:only-of-type {\n",
       "        vertical-align: middle;\n",
       "    }\n",
       "\n",
       "    .dataframe tbody tr th {\n",
       "        vertical-align: top;\n",
       "    }\n",
       "\n",
       "    .dataframe thead th {\n",
       "        text-align: right;\n",
       "    }\n",
       "</style>\n",
       "<table border=\"1\" class=\"dataframe\">\n",
       "  <thead>\n",
       "    <tr style=\"text-align: right;\">\n",
       "      <th></th>\n",
       "      <th>Количество (г)</th>\n",
       "    </tr>\n",
       "  </thead>\n",
       "  <tbody>\n",
       "    <tr>\n",
       "      <th>Груши</th>\n",
       "      <td>200</td>\n",
       "    </tr>\n",
       "    <tr>\n",
       "      <th>Яблоки</th>\n",
       "      <td>500</td>\n",
       "    </tr>\n",
       "    <tr>\n",
       "      <th>Манго</th>\n",
       "      <td>400</td>\n",
       "    </tr>\n",
       "    <tr>\n",
       "      <th>Бананы</th>\n",
       "      <td>500</td>\n",
       "    </tr>\n",
       "    <tr>\n",
       "      <th>Ананас</th>\n",
       "      <td>125</td>\n",
       "    </tr>\n",
       "    <tr>\n",
       "      <th>Общий вес:</th>\n",
       "      <td>1725</td>\n",
       "    </tr>\n",
       "  </tbody>\n",
       "</table>\n",
       "</div>"
      ],
      "text/plain": [
       "             Количество (г)\n",
       "Груши                   200\n",
       "Яблоки                  500\n",
       "Манго                   400\n",
       "Бананы                  500\n",
       "Ананас                  125\n",
       "Общий вес:             1725"
      ]
     },
     "execution_count": 4,
     "metadata": {},
     "output_type": "execute_result"
    }
   ],
   "source": [
    "# Внесение уже существующего фрукта без изменений\n",
    "add_fruits(\"Яблоки: 500\")"
   ]
  },
  {
   "cell_type": "code",
   "execution_count": 5,
   "id": "fa4ba07a",
   "metadata": {},
   "outputs": [
    {
     "data": {
      "text/plain": [
       "'Вы не ввели ни одного продукта'"
      ]
     },
     "execution_count": 5,
     "metadata": {},
     "output_type": "execute_result"
    }
   ],
   "source": [
    "# Ничего не передано в функцию\n",
    "add_fruits()"
   ]
  },
  {
   "cell_type": "code",
   "execution_count": 6,
   "id": "0bcccf1b",
   "metadata": {},
   "outputs": [
    {
     "name": "stdout",
     "output_type": "stream",
     "text": [
      "Количество Яблоки изменено на 600 грамм\n",
      "Продукт Арбуз добавлен(ы) в количестве 300 грамм\n"
     ]
    },
    {
     "data": {
      "text/html": [
       "<div>\n",
       "<style scoped>\n",
       "    .dataframe tbody tr th:only-of-type {\n",
       "        vertical-align: middle;\n",
       "    }\n",
       "\n",
       "    .dataframe tbody tr th {\n",
       "        vertical-align: top;\n",
       "    }\n",
       "\n",
       "    .dataframe thead th {\n",
       "        text-align: right;\n",
       "    }\n",
       "</style>\n",
       "<table border=\"1\" class=\"dataframe\">\n",
       "  <thead>\n",
       "    <tr style=\"text-align: right;\">\n",
       "      <th></th>\n",
       "      <th>Количество (г)</th>\n",
       "    </tr>\n",
       "  </thead>\n",
       "  <tbody>\n",
       "    <tr>\n",
       "      <th>Груши</th>\n",
       "      <td>200</td>\n",
       "    </tr>\n",
       "    <tr>\n",
       "      <th>Яблоки</th>\n",
       "      <td>600</td>\n",
       "    </tr>\n",
       "    <tr>\n",
       "      <th>Манго</th>\n",
       "      <td>400</td>\n",
       "    </tr>\n",
       "    <tr>\n",
       "      <th>Бананы</th>\n",
       "      <td>500</td>\n",
       "    </tr>\n",
       "    <tr>\n",
       "      <th>Ананас</th>\n",
       "      <td>125</td>\n",
       "    </tr>\n",
       "    <tr>\n",
       "      <th>Арбуз</th>\n",
       "      <td>300</td>\n",
       "    </tr>\n",
       "    <tr>\n",
       "      <th>Общий вес:</th>\n",
       "      <td>2125</td>\n",
       "    </tr>\n",
       "  </tbody>\n",
       "</table>\n",
       "</div>"
      ],
      "text/plain": [
       "             Количество (г)\n",
       "Груши                   200\n",
       "Яблоки                  600\n",
       "Манго                   400\n",
       "Бананы                  500\n",
       "Ананас                  125\n",
       "Арбуз                   300\n",
       "Общий вес:             2125"
      ]
     },
     "execution_count": 6,
     "metadata": {},
     "output_type": "execute_result"
    }
   ],
   "source": [
    "# Ввод keyword argument\n",
    "add_fruits(Яблоки=600, Арбуз=300)"
   ]
  },
  {
   "cell_type": "code",
   "execution_count": 7,
   "id": "cc0b440e",
   "metadata": {},
   "outputs": [
    {
     "name": "stdout",
     "output_type": "stream",
     "text": [
      "Количество Яблоки изменено на 750 грамм\n",
      "Продукт Мандарины добавлен(ы) в количестве 550 грамм\n",
      "Продукт Кешью добавлен(ы) в количестве 400 грамм\n"
     ]
    },
    {
     "data": {
      "text/html": [
       "<div>\n",
       "<style scoped>\n",
       "    .dataframe tbody tr th:only-of-type {\n",
       "        vertical-align: middle;\n",
       "    }\n",
       "\n",
       "    .dataframe tbody tr th {\n",
       "        vertical-align: top;\n",
       "    }\n",
       "\n",
       "    .dataframe thead th {\n",
       "        text-align: right;\n",
       "    }\n",
       "</style>\n",
       "<table border=\"1\" class=\"dataframe\">\n",
       "  <thead>\n",
       "    <tr style=\"text-align: right;\">\n",
       "      <th></th>\n",
       "      <th>Количество (г)</th>\n",
       "    </tr>\n",
       "  </thead>\n",
       "  <tbody>\n",
       "    <tr>\n",
       "      <th>Груши</th>\n",
       "      <td>200</td>\n",
       "    </tr>\n",
       "    <tr>\n",
       "      <th>Яблоки</th>\n",
       "      <td>750</td>\n",
       "    </tr>\n",
       "    <tr>\n",
       "      <th>Манго</th>\n",
       "      <td>400</td>\n",
       "    </tr>\n",
       "    <tr>\n",
       "      <th>Бананы</th>\n",
       "      <td>500</td>\n",
       "    </tr>\n",
       "    <tr>\n",
       "      <th>Ананас</th>\n",
       "      <td>125</td>\n",
       "    </tr>\n",
       "    <tr>\n",
       "      <th>Арбуз</th>\n",
       "      <td>300</td>\n",
       "    </tr>\n",
       "    <tr>\n",
       "      <th>Мандарины</th>\n",
       "      <td>550</td>\n",
       "    </tr>\n",
       "    <tr>\n",
       "      <th>Кешью</th>\n",
       "      <td>400</td>\n",
       "    </tr>\n",
       "    <tr>\n",
       "      <th>Общий вес:</th>\n",
       "      <td>3225</td>\n",
       "    </tr>\n",
       "  </tbody>\n",
       "</table>\n",
       "</div>"
      ],
      "text/plain": [
       "             Количество (г)\n",
       "Груши                   200\n",
       "Яблоки                  750\n",
       "Манго                   400\n",
       "Бананы                  500\n",
       "Ананас                  125\n",
       "Арбуз                   300\n",
       "Мандарины               550\n",
       "Кешью                   400\n",
       "Общий вес:             3225"
      ]
     },
     "execution_count": 7,
     "metadata": {},
     "output_type": "execute_result"
    }
   ],
   "source": [
    "# Комбинации\n",
    "add_fruits(\"Яблоки: 75неверныйввод0\", \"Мандарины: 550грамм\", Кешью=400)"
   ]
  },
  {
   "cell_type": "markdown",
   "id": "34f74cce",
   "metadata": {},
   "source": [
    "## Задача 3"
   ]
  },
  {
   "cell_type": "markdown",
   "id": "1e212781",
   "metadata": {},
   "source": [
    "Дан список с затратами на рекламу.\n",
    "Но в данных есть ошибки, некоторые затраты имеют отрицательную величину. \n",
    "Удалите такие значения из списка и посчитайте суммарные затраты\n",
    "[100, 125, -90, 345, 655, -1, 0, 200] \n",
    "Используйте list comprehensions"
   ]
  },
  {
   "cell_type": "code",
   "execution_count": 8,
   "id": "d08adffd",
   "metadata": {},
   "outputs": [
    {
     "data": {
      "text/plain": [
       "1425"
      ]
     },
     "execution_count": 8,
     "metadata": {},
     "output_type": "execute_result"
    }
   ],
   "source": [
    "# 1 вариант\n",
    "sum(filter(lambda x: x >= 0, [100, 125, -90, 345, 655, -1, 0, 200]))"
   ]
  },
  {
   "cell_type": "code",
   "execution_count": 9,
   "id": "8f13e9a3",
   "metadata": {},
   "outputs": [
    {
     "data": {
      "text/plain": [
       "1425"
      ]
     },
     "execution_count": 9,
     "metadata": {},
     "output_type": "execute_result"
    }
   ],
   "source": [
    "# 2 вариант\n",
    "sum([i for i in [100, 125, -90, 345, 655, -1, 0, 200] if i >= 0])"
   ]
  },
  {
   "cell_type": "code",
   "execution_count": 10,
   "id": "b9d8e26b",
   "metadata": {},
   "outputs": [
    {
     "data": {
      "text/plain": [
       "1425"
      ]
     },
     "execution_count": 10,
     "metadata": {},
     "output_type": "execute_result"
    }
   ],
   "source": [
    "# 3 вариант \n",
    "import numpy as np \n",
    "\n",
    "np.array([100, 125, -90, 345, 655, -1, 0, 200]).clip(0).sum()"
   ]
  },
  {
   "cell_type": "markdown",
   "id": "87dae14b",
   "metadata": {},
   "source": [
    "### Задача 4.1:"
   ]
  },
  {
   "cell_type": "markdown",
   "id": "a452f07b",
   "metadata": {},
   "source": [
    "Условие 4.1: \n",
    "Даны два списка. \n",
    "Дата покупки \n",
    "['2021-09-14', '2021-12-15', '2021-09-08', '2021-12-05', '2021-10-09', '2021-09-30', '2021-12-22', '2021-11-29', '2021-12-24', '2021-11-26', '2021-10-27', '2021-12-18', '2021-11-09', '2021-11-23', '2021-09-27', '2021-10-02', '2021-12-27', '2021-09-20', '2021-12-13', '2021-11-01', '2021-11-09', '2021-12-06', '2021-12-08', '2021-10-09', '2021-10-31', '2021-09-30', '2021-11-09', '2021-12-13', '2021-10-26', '2021-12-09']\n",
    "Суммы покупок по датам\n",
    "\n",
    "[1270, 8413, 9028, 3703, 5739, 4095, 295, 4944, 5723, 3701, 4471, 651, 7037, 4274, 6275, 4988, 6930, 2971, 6592, 2004, 2822, 519, 3406, 2732, 5015, 2008, 316, 6333, 5700, 2887]"
   ]
  },
  {
   "cell_type": "markdown",
   "id": "a7918bbf",
   "metadata": {},
   "source": [
    "Найдите, какая выручка у компании в ноябре Используйте list comprehensions"
   ]
  },
  {
   "cell_type": "code",
   "execution_count": 11,
   "id": "f7e8efa8",
   "metadata": {},
   "outputs": [
    {
     "data": {
      "text/html": [
       "<div>\n",
       "<style scoped>\n",
       "    .dataframe tbody tr th:only-of-type {\n",
       "        vertical-align: middle;\n",
       "    }\n",
       "\n",
       "    .dataframe tbody tr th {\n",
       "        vertical-align: top;\n",
       "    }\n",
       "\n",
       "    .dataframe thead th {\n",
       "        text-align: right;\n",
       "    }\n",
       "</style>\n",
       "<table border=\"1\" class=\"dataframe\">\n",
       "  <thead>\n",
       "    <tr style=\"text-align: right;\">\n",
       "      <th></th>\n",
       "      <th>Дата</th>\n",
       "      <th>Сумма покупок</th>\n",
       "    </tr>\n",
       "  </thead>\n",
       "  <tbody>\n",
       "    <tr>\n",
       "      <th>0</th>\n",
       "      <td>2021-09-14</td>\n",
       "      <td>1270</td>\n",
       "    </tr>\n",
       "    <tr>\n",
       "      <th>1</th>\n",
       "      <td>2021-12-15</td>\n",
       "      <td>8413</td>\n",
       "    </tr>\n",
       "    <tr>\n",
       "      <th>2</th>\n",
       "      <td>2021-09-08</td>\n",
       "      <td>9028</td>\n",
       "    </tr>\n",
       "    <tr>\n",
       "      <th>3</th>\n",
       "      <td>2021-12-05</td>\n",
       "      <td>3703</td>\n",
       "    </tr>\n",
       "    <tr>\n",
       "      <th>4</th>\n",
       "      <td>2021-10-09</td>\n",
       "      <td>5739</td>\n",
       "    </tr>\n",
       "    <tr>\n",
       "      <th>5</th>\n",
       "      <td>2021-09-30</td>\n",
       "      <td>4095</td>\n",
       "    </tr>\n",
       "    <tr>\n",
       "      <th>6</th>\n",
       "      <td>2021-12-22</td>\n",
       "      <td>295</td>\n",
       "    </tr>\n",
       "    <tr>\n",
       "      <th>7</th>\n",
       "      <td>2021-11-29</td>\n",
       "      <td>4944</td>\n",
       "    </tr>\n",
       "    <tr>\n",
       "      <th>8</th>\n",
       "      <td>2021-12-24</td>\n",
       "      <td>5723</td>\n",
       "    </tr>\n",
       "    <tr>\n",
       "      <th>9</th>\n",
       "      <td>2021-11-26</td>\n",
       "      <td>3701</td>\n",
       "    </tr>\n",
       "    <tr>\n",
       "      <th>10</th>\n",
       "      <td>2021-10-27</td>\n",
       "      <td>4471</td>\n",
       "    </tr>\n",
       "    <tr>\n",
       "      <th>11</th>\n",
       "      <td>2021-12-18</td>\n",
       "      <td>651</td>\n",
       "    </tr>\n",
       "    <tr>\n",
       "      <th>12</th>\n",
       "      <td>2021-11-09</td>\n",
       "      <td>7037</td>\n",
       "    </tr>\n",
       "    <tr>\n",
       "      <th>13</th>\n",
       "      <td>2021-11-23</td>\n",
       "      <td>4274</td>\n",
       "    </tr>\n",
       "    <tr>\n",
       "      <th>14</th>\n",
       "      <td>2021-09-27</td>\n",
       "      <td>6275</td>\n",
       "    </tr>\n",
       "    <tr>\n",
       "      <th>15</th>\n",
       "      <td>2021-10-02</td>\n",
       "      <td>4988</td>\n",
       "    </tr>\n",
       "    <tr>\n",
       "      <th>16</th>\n",
       "      <td>2021-12-27</td>\n",
       "      <td>6930</td>\n",
       "    </tr>\n",
       "    <tr>\n",
       "      <th>17</th>\n",
       "      <td>2021-09-20</td>\n",
       "      <td>2971</td>\n",
       "    </tr>\n",
       "    <tr>\n",
       "      <th>18</th>\n",
       "      <td>2021-12-13</td>\n",
       "      <td>6592</td>\n",
       "    </tr>\n",
       "    <tr>\n",
       "      <th>19</th>\n",
       "      <td>2021-11-01</td>\n",
       "      <td>2004</td>\n",
       "    </tr>\n",
       "    <tr>\n",
       "      <th>20</th>\n",
       "      <td>2021-11-09</td>\n",
       "      <td>2822</td>\n",
       "    </tr>\n",
       "    <tr>\n",
       "      <th>21</th>\n",
       "      <td>2021-12-06</td>\n",
       "      <td>519</td>\n",
       "    </tr>\n",
       "    <tr>\n",
       "      <th>22</th>\n",
       "      <td>2021-12-08</td>\n",
       "      <td>3406</td>\n",
       "    </tr>\n",
       "    <tr>\n",
       "      <th>23</th>\n",
       "      <td>2021-10-09</td>\n",
       "      <td>2732</td>\n",
       "    </tr>\n",
       "    <tr>\n",
       "      <th>24</th>\n",
       "      <td>2021-10-31</td>\n",
       "      <td>5015</td>\n",
       "    </tr>\n",
       "    <tr>\n",
       "      <th>25</th>\n",
       "      <td>2021-09-30</td>\n",
       "      <td>2008</td>\n",
       "    </tr>\n",
       "    <tr>\n",
       "      <th>26</th>\n",
       "      <td>2021-11-09</td>\n",
       "      <td>316</td>\n",
       "    </tr>\n",
       "    <tr>\n",
       "      <th>27</th>\n",
       "      <td>2021-12-13</td>\n",
       "      <td>6333</td>\n",
       "    </tr>\n",
       "    <tr>\n",
       "      <th>28</th>\n",
       "      <td>2021-10-26</td>\n",
       "      <td>5700</td>\n",
       "    </tr>\n",
       "    <tr>\n",
       "      <th>29</th>\n",
       "      <td>2021-12-09</td>\n",
       "      <td>2887</td>\n",
       "    </tr>\n",
       "  </tbody>\n",
       "</table>\n",
       "</div>"
      ],
      "text/plain": [
       "          Дата  Сумма покупок\n",
       "0   2021-09-14           1270\n",
       "1   2021-12-15           8413\n",
       "2   2021-09-08           9028\n",
       "3   2021-12-05           3703\n",
       "4   2021-10-09           5739\n",
       "5   2021-09-30           4095\n",
       "6   2021-12-22            295\n",
       "7   2021-11-29           4944\n",
       "8   2021-12-24           5723\n",
       "9   2021-11-26           3701\n",
       "10  2021-10-27           4471\n",
       "11  2021-12-18            651\n",
       "12  2021-11-09           7037\n",
       "13  2021-11-23           4274\n",
       "14  2021-09-27           6275\n",
       "15  2021-10-02           4988\n",
       "16  2021-12-27           6930\n",
       "17  2021-09-20           2971\n",
       "18  2021-12-13           6592\n",
       "19  2021-11-01           2004\n",
       "20  2021-11-09           2822\n",
       "21  2021-12-06            519\n",
       "22  2021-12-08           3406\n",
       "23  2021-10-09           2732\n",
       "24  2021-10-31           5015\n",
       "25  2021-09-30           2008\n",
       "26  2021-11-09            316\n",
       "27  2021-12-13           6333\n",
       "28  2021-10-26           5700\n",
       "29  2021-12-09           2887"
      ]
     },
     "execution_count": 11,
     "metadata": {},
     "output_type": "execute_result"
    }
   ],
   "source": [
    "# Дата покупки\n",
    "date_of_purchase = np.array(['2021-09-14', '2021-12-15', '2021-09-08', '2021-12-05', '2021-10-09', \n",
    "                 '2021-09-30', '2021-12-22', '2021-11-29', '2021-12-24', '2021-11-26', \n",
    "                 '2021-10-27', '2021-12-18', '2021-11-09', '2021-11-23', '2021-09-27', \n",
    "                 '2021-10-02', '2021-12-27', '2021-09-20', '2021-12-13', '2021-11-01', \n",
    "                 '2021-11-09', '2021-12-06', '2021-12-08', '2021-10-09', '2021-10-31', \n",
    "                 '2021-09-30', '2021-11-09', '2021-12-13', '2021-10-26', '2021-12-09'])\n",
    "\n",
    "# Суммы покупок по датам\n",
    "purchase_amounts = np.array([1270, 8413, 9028, 3703, 5739, 4095, 295, 4944, 5723, 3701, \n",
    "                             4471, 651, 7037, 4274, 6275, 4988, 6930, 2971, 6592, 2004, \n",
    "                             2822, 519, 3406, 2732, 5015, 2008, 316, 6333, 5700, 2887])\n",
    "\n",
    "data_p = {\"Дата\": date_of_purchase, \"Сумма покупок\": purchase_amounts}\n",
    "data_purchase = pd.DataFrame(data_p)\n",
    "data_purchase"
   ]
  },
  {
   "cell_type": "code",
   "execution_count": 12,
   "id": "02c211f2",
   "metadata": {},
   "outputs": [
    {
     "data": {
      "text/plain": [
       "'Сумма покупок за Ноябрь = 25098'"
      ]
     },
     "execution_count": 12,
     "metadata": {},
     "output_type": "execute_result"
    }
   ],
   "source": [
    "november_sales = data_purchase[data_purchase['Дата'].str.startswith('2021-11')]['Сумма покупок'].sum()\n",
    "f'Сумма покупок за Ноябрь = {november_sales}'"
   ]
  },
  {
   "cell_type": "code",
   "execution_count": 13,
   "id": "b73e7623",
   "metadata": {},
   "outputs": [
    {
     "data": {
      "text/plain": [
       "Месяц\n",
       "December     45452\n",
       "November     25098\n",
       "October      28645\n",
       "September    25647\n",
       "Name: Сумма покупок, dtype: int32"
      ]
     },
     "execution_count": 13,
     "metadata": {},
     "output_type": "execute_result"
    }
   ],
   "source": [
    "data_purchase['Месяц'] = pd.to_datetime(data_purchase['Дата']).dt.month_name()\n",
    "total_sum = data_purchase.groupby('Месяц')['Сумма покупок'].sum()\n",
    "total_sum"
   ]
  },
  {
   "cell_type": "markdown",
   "id": "70a4a6f3",
   "metadata": {},
   "source": [
    "### Задача 4.2"
   ]
  },
  {
   "cell_type": "markdown",
   "id": "83a87d62",
   "metadata": {},
   "source": [
    "4.2\n",
    "Найдите выручку компании в зависимости от месяца\n",
    "Для этого напишите функцию, которая на вход принимает список с датами и список с выручкой, \n",
    "а на выходе словарь, где ключи - это месяцы, а значения - это выручка.\n",
    "Используйте аннотирование типов."
   ]
  },
  {
   "cell_type": "code",
   "execution_count": 14,
   "id": "6336394e",
   "metadata": {
    "scrolled": false
   },
   "outputs": [
    {
     "data": {
      "image/png": "[encoded data removed]",
      "text/plain": [
       "<Figure size 640x480 with 1 Axes>"
      ]
     },
     "metadata": {},
     "output_type": "display_data"
    }
   ],
   "source": [
    "import seaborn as sns\n",
    "import matplotlib.pyplot as plt\n",
    "\n",
    "data_purchase = data_purchase.sort_values(\"Дата\")\n",
    "sns.lineplot(x='Дата', y='Сумма покупок', data=data_purchase)\n",
    "plt.xticks(rotation=90)\n",
    "plt.show()"
   ]
  },
  {
   "cell_type": "code",
   "execution_count": null,
   "id": "ae8f464a",
   "metadata": {},
   "outputs": [],
   "source": []
  },
  {
   "cell_type": "code",
   "execution_count": null,
   "id": "04aadef7",
   "metadata": {},
   "outputs": [],
   "source": []
  }
 ],
 "metadata": {
  "kernelspec": {
   "display_name": "Python 3 (ipykernel)",
   "language": "python",
   "name": "python3"
  },
  "language_info": {
   "codemirror_mode": {
    "name": "ipython",
    "version": 3
   },
   "file_extension": ".py",
   "mimetype": "text/x-python",
   "name": "python",
   "nbconvert_exporter": "python",
   "pygments_lexer": "ipython3",
   "version": "3.10.9"
  }
 },
 "nbformat": 4,
 "nbformat_minor": 5
}
